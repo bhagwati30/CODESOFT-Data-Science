{
  "nbformat": 4,
  "nbformat_minor": 0,
  "metadata": {
    "colab": {
      "provenance": []
    },
    "kernelspec": {
      "name": "python3",
      "display_name": "Python 3"
    },
    "language_info": {
      "name": "python"
    }
  },
  "cells": [
    {
      "cell_type": "code",
      "execution_count": 9,
      "metadata": {
        "colab": {
          "base_uri": "https://localhost:8080/"
        },
        "id": "4TFPXwOpHXaK",
        "outputId": "1724dedf-b390-4157-f8d2-4abc7aee6c15"
      },
      "outputs": [
        {
          "output_type": "stream",
          "name": "stdout",
          "text": [
            "Mean Squared Error: 6.101072906773963\n",
            "R-squared Score: 0.802561303423698\n",
            "Predicted Sales for new TV advertising values: [12.55540282 18.10369721 23.65199161]\n"
          ]
        }
      ],
      "source": [
        "import pandas as pd\n",
        "from sklearn.model_selection import train_test_split\n",
        "from sklearn.linear_model import LinearRegression\n",
        "from sklearn.metrics import mean_squared_error, r2_score\n",
        "\n",
        "# Load the dataset from 'advertising.csv'\n",
        "df = pd.read_csv('advertising.csv')\n",
        "\n",
        "# Assuming your dataset has columns like 'TV', 'Radio', 'Newspaper', and 'Sales'\n",
        "if 'TV' in df.columns and 'Sales' in df.columns:\n",
        "    X = df[['TV']]  # Feature(s) - Using only 'TV' for simplicity\n",
        "    y = df['Sales']  # Target variable\n",
        "    X_train, X_test, y_train, y_test = train_test_split(X, y, test_size=0.2, random_state=42)\n",
        "\n",
        "    # Initialize and train the linear regression model\n",
        "    model = LinearRegression()\n",
        "    model.fit(X_train, y_train)\n",
        "\n",
        "    # Make predictions on the test set\n",
        "    y_pred = model.predict(X_test)\n",
        "\n",
        "    # Evaluate the model\n",
        "    mse = mean_squared_error(y_test, y_pred)\n",
        "    r2 = r2_score(y_test, y_pred)\n",
        "\n",
        "    print(f\"Mean Squared Error: {mse}\")\n",
        "    print(f\"R-squared Score: {r2}\")\n",
        "\n",
        "    # Predict sales for new TV advertising values\n",
        "    new_tv = pd.DataFrame({'TV': [100, 200, 300]})\n",
        "    predicted_sales = model.predict(new_tv)\n",
        "    print(f\"Predicted Sales for new TV advertising values: {predicted_sales}\")\n",
        "else:\n",
        "    print(\"Error: 'TV' and/or 'Sales' columns not found in the dataset.\")\n"
      ]
    }
  ]
}